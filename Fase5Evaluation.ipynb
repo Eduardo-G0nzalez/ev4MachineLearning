{
  "nbformat": 4,
  "nbformat_minor": 0,
  "metadata": {
    "colab": {
      "provenance": [],
      "toc_visible": true,
      "authorship_tag": "ABX9TyPS+VKKCNO7+FHSiC+7CMHE",
      "include_colab_link": true
    },
    "kernelspec": {
      "name": "python3",
      "display_name": "Python 3"
    },
    "language_info": {
      "name": "python"
    }
  },
  "cells": [
    {
      "cell_type": "markdown",
      "metadata": {
        "id": "view-in-github",
        "colab_type": "text"
      },
      "source": [
        "<a href=\"https://colab.research.google.com/github/Eduardo-G0nzalez/ev4MachineLearning/blob/main/Fase5Evaluation.ipynb\" target=\"_parent\"><img src=\"https://colab.research.google.com/assets/colab-badge.svg\" alt=\"Open In Colab\"/></a>"
      ]
    },
    {
      "cell_type": "markdown",
      "source": [
        "# Fase 5 Metodología CRISP-DM \"Evaluación\""
      ],
      "metadata": {
        "id": "gE_483t5ExeX"
      }
    },
    {
      "cell_type": "markdown",
      "source": [
        "## Desarrollo"
      ],
      "metadata": {
        "id": "-OwmYwhxE1tS"
      }
    },
    {
      "cell_type": "markdown",
      "source": [
        "**Objetivo**\n",
        "\n",
        "Evaluar la calidad y utilidad de los modelos generados para predecir si un jugador sobrevivirá una ronda, utilizando como base su equipamiento inicial, tipo de arma principal y estadísticas de combate.\n",
        "\n"
      ],
      "metadata": {
        "id": "NxOa4W70E6K2"
      }
    },
    {
      "cell_type": "markdown",
      "source": [
        "### **Resultados obtenidos**"
      ],
      "metadata": {
        "id": "8WdCTvhKFA-f"
      }
    },
    {
      "cell_type": "markdown",
      "source": [
        "| Modelo                     | Precisión (%) | Observaciones principales                                      |\n",
        "| -------------------------- | ------------- | -------------------------------------------------------------- |\n",
        "| k-Nearest Neighbors (k=20) | 66.9%         | Simplicidad y buena interpretación, pero sensible a la escala. |\n",
        "| Árbol de Decisión          | 63.0%         | Fácil de interpretar, pero tendencia al sobreajuste.           |\n",
        "| Random Forest              | 68.0%         | Modelo robusto y con mejor generalización.                     |\n",
        "| Regresión Logística        | 68.0%         | Buen equilibrio y alta interpretabilidad.                      |\n",
        "| Support Vector Machine     | 68.0%         | Rendimiento sólido, similar a Random Forest.                   |\n"
      ],
      "metadata": {
        "id": "-XLHeWKMFFsk"
      }
    },
    {
      "cell_type": "markdown",
      "source": [
        "**Interpretación datos obtenidos:**\n",
        "\n",
        "- Todos los modelos alcanzaron una precisión razonable, con valores entre 63% y 68%, lo que indica que sí es posible predecir la supervivencia de un jugador con base en las variables seleccionadas.\n",
        "\n",
        "- Random Forest, SVM y Regresión Logística demostraron ser los modelos más confiables, entregando resultados consistentes y estables.\n",
        "\n",
        "- El modelo de Árbol de Decisión, aunque menos preciso, ofrece ventajas en términos de explicabilidad y visualización de reglas.\n",
        "\n",
        "- El modelo kNN presentó un buen desempeño, pero puede verse afectado por la escala y el ruido en los datos."
      ],
      "metadata": {
        "id": "i2N337MuFLG_"
      }
    },
    {
      "cell_type": "markdown",
      "source": [
        "### Selección de modelo y recomendaciones"
      ],
      "metadata": {
        "id": "2kEvI-3wFXPp"
      }
    },
    {
      "cell_type": "markdown",
      "source": [
        "**Criterio de selección:**\n",
        "\n",
        "Random Forest fue seleccionado como el modelo final por su:\n",
        "\n",
        "- Alta precisión (68%).\n",
        "\n",
        "- Robustez ante datos ruidosos o correlaciones no lineales.\n",
        "\n",
        "- Mejor capacidad de generalización en comparación con el Árbol de Decisión individual."
      ],
      "metadata": {
        "id": "xMjMn7UnFcjI"
      }
    },
    {
      "cell_type": "markdown",
      "source": [
        "**Recomendaciones:**\n",
        "\n",
        "- Se podría mejorar el rendimiento aplicando técnicas de balanceo de clases, ingeniería de características o ajuste de hiperparámetros.\n",
        "\n",
        "- Es recomendable analizar la importancia de variables y probar otras fuentes de información (como datos contextuales del mapa o del equipo).\n",
        "\n",
        "- Incluir una fase de validación cruzada para fortalecer la evaluación del modelo."
      ],
      "metadata": {
        "id": "4f8_sTFNFmsX"
      }
    },
    {
      "cell_type": "markdown",
      "source": [
        "## Conclusiones"
      ],
      "metadata": {
        "id": "ujiIsCx0F3KW"
      }
    },
    {
      "cell_type": "markdown",
      "source": [
        "Los resultados obtenidos demuestran que es viable predecir la supervivencia de un jugador en una ronda con un nivel razonable de precisión, utilizando solo su equipamiento inicial y estadísticas de combate. Modelos como Random Forest, SVM y Regresión Logística alcanzaron un desempeño consistente del 68%, lo que valida la hipótesis del proyecto. Aunque aún hay margen de mejora, el modelo seleccionado ofrece una base sólida para futuras implementaciones y análisis más profundos."
      ],
      "metadata": {
        "id": "dG2Cqp0TF7I3"
      }
    }
  ]
}